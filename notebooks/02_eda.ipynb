{
 "cells": [
  {
   "cell_type": "code",
   "execution_count": 1,
   "id": "3a418655-61cf-4a6c-ad06-72f5664aa058",
   "metadata": {},
   "outputs": [],
   "source": [
    "import sys\n",
    "from pathlib import Path\n",
    "\n",
    "import numpy as np\n",
    "import pandas as pd\n",
    "\n",
    "import matplotlib.pyplot as plt\n",
    "import seaborn as sns\n",
    "sns.set_theme(style=\"whitegrid\", palette=\"viridis\")\n",
    "\n",
    "sys.path.append(str(Path().resolve().parent / \"src\"))\n",
    "from utils import load_all_csvs\n",
    "from sanitize import sanitize_all\n",
    "from aggregations import (\n",
    "    exam_volume_by_zip,\n",
    "    avg_cost_by_zip,\n",
    "    exam_volume_by_age_group,\n",
    "    top_coditems,\n",
    "    add_age_column\n",
    ")\n",
    "from viz_aggregations import (\n",
    "    plot_exam_volume_by_zip,\n",
    "    plot_avg_cost_by_zip,\n",
    "    plot_exam_volume_by_age_group,\n",
    "    plot_top_coditems\n",
    ")\n"
   ]
  },
  {
   "cell_type": "code",
   "execution_count": 2,
   "id": "8f63688d-0f53-45f6-81f7-0fcbf2694eb8",
   "metadata": {},
   "outputs": [],
   "source": [
    "dfs = load_all_csvs(Path.cwd().parent / \"data\")\n",
    "dfs = sanitize_all(dfs)"
   ]
  },
  {
   "cell_type": "code",
   "execution_count": 3,
   "id": "4f4f479f-3e56-410b-846a-16a2ab595771",
   "metadata": {},
   "outputs": [],
   "source": [
    "for name in dfs:\n",
    "    dfs[name] = dfs[name].loc[:, ~dfs[name].columns.str.startswith('Unnamed')]"
   ]
  },
  {
   "cell_type": "code",
   "execution_count": 4,
   "id": "25bdff32-7b64-4457-8413-1bdd04e4abb5",
   "metadata": {},
   "outputs": [],
   "source": [
    "def plot_numeric_distributions(dfs: dict[str, pd.DataFrame], max_cols: int = 3, bins: int = 50):\n",
    "    ignore_keywords = ['id', 'zipcode', 'coditem', 'zip', 'lab']\n",
    "\n",
    "    for name, df in dfs.items():\n",
    "        # Seleciona colunas numéricas e remove identificadores\n",
    "        num_df = df.select_dtypes(include='number')\n",
    "        cols_to_plot = [col for col in num_df.columns if not any(k in col.lower() for k in ignore_keywords)]\n",
    "        if not cols_to_plot:\n",
    "            continue\n",
    "\n",
    "        print(f\"\\n📊 Distribuições numéricas – {name}\")\n",
    "        n_cols = len(cols_to_plot)\n",
    "        n_rows = (n_cols + max_cols - 1) // max_cols\n",
    "\n",
    "        fig, axes = plt.subplots(n_rows, min(n_cols, max_cols), figsize=(5 * max_cols, 4 * n_rows))\n",
    "        axes = axes.flatten() if n_cols > 1 else [axes]\n",
    "\n",
    "        for i, col in enumerate(cols_to_plot):\n",
    "            sns.histplot(data=df, x=col, bins=bins, ax=axes[i], kde=True)\n",
    "            axes[i].set_title(col)\n",
    "            axes[i].set_xlabel(\"\")\n",
    "            axes[i].set_ylabel(\"\")\n",
    "\n",
    "        for j in range(i + 1, len(axes)):\n",
    "            axes[j].set_visible(False)\n",
    "\n",
    "        plt.tight_layout()\n",
    "        plt.show()"
   ]
  },
  {
   "cell_type": "code",
   "execution_count": 5,
   "id": "06e40cd9-a860-4454-9faa-b91b61bc6a13",
   "metadata": {
    "scrolled": true
   },
   "outputs": [],
   "source": [
    "# plot_numeric_distributions(dfs)"
   ]
  },
  {
   "cell_type": "code",
   "execution_count": 6,
   "id": "c12ae8a8-7a27-4a15-b16c-30cea6c0ec6e",
   "metadata": {},
   "outputs": [],
   "source": [
    "transactional = dfs['transactional']\n",
    "geocode = dfs['geocode']\n",
    "\n",
    "# Exam volume by ZCTA\n",
    "# volume_zip = exam_volume_by_zip(transactional, geocode)\n",
    "# plot_exam_volume_by_zip(volume_zip)\n",
    "\n",
    "# Average testing cost by ZCTA\n",
    "# custo_zip = avg_cost_by_zip(transactional, geocode)\n",
    "# plot_avg_cost_by_zip(custo_zip)\n",
    "\n",
    "# Exam volume by age group\n",
    "# transactional = add_age_column(transactional)\n",
    "# volume_faixa = exam_volume_by_age_group(transactional)\n",
    "# plot_exam_volume_by_age_group(volume_faixa)\n",
    "\n",
    "# Top CodItems by volume and total cost\n",
    "# top_cod = top_coditems(transactional)\n",
    "# plot_top_coditems(top_cod)\n"
   ]
  },
  {
   "cell_type": "code",
   "execution_count": 7,
   "id": "9cd3baa7-664b-4360-bee5-76300d41c311",
   "metadata": {},
   "outputs": [],
   "source": [
    "import folium\n",
    "from folium.plugins import HeatMap\n",
    "from IPython.display import IFrame\n",
    "reports_path = Path.cwd().parent / \"reports\"\n",
    "\n",
    "from viz_map import generate_exam_location_map"
   ]
  },
  {
   "cell_type": "code",
   "execution_count": 8,
   "id": "803d3e51-f63d-4b8d-98e6-3e5841a7c568",
   "metadata": {},
   "outputs": [
    {
     "name": "stdout",
     "output_type": "stream",
     "text": [
      "✅ Mapa salvo em: ../reports/exames_por_local.html\n"
     ]
    }
   ],
   "source": [
    "generate_exam_location_map(transactional, geocode, \"../reports/exames_por_local.html\")"
   ]
  },
  {
   "cell_type": "code",
   "execution_count": 9,
   "id": "82abbea1-27e4-40c3-8323-8e07badb1772",
   "metadata": {},
   "outputs": [
    {
     "data": {
      "text/html": [
       "\n",
       "        <iframe\n",
       "            width=\"900\"\n",
       "            height=\"600\"\n",
       "            src=\"../reports/exames_por_local.html\"\n",
       "            frameborder=\"0\"\n",
       "            allowfullscreen\n",
       "            \n",
       "        ></iframe>\n",
       "        "
      ],
      "text/plain": [
       "<IPython.lib.display.IFrame at 0x7f4ce957de80>"
      ]
     },
     "execution_count": 9,
     "metadata": {},
     "output_type": "execute_result"
    }
   ],
   "source": [
    "IFrame('../reports/exames_por_local.html', width=900, height=600)"
   ]
  },
  {
   "cell_type": "code",
   "execution_count": null,
   "id": "0be8f6c2-4ec2-4c99-9e19-d553a20fd062",
   "metadata": {},
   "outputs": [],
   "source": []
  }
 ],
 "metadata": {
  "kernelspec": {
   "display_name": "Python 3 (ipykernel)",
   "language": "python",
   "name": "python3"
  },
  "language_info": {
   "codemirror_mode": {
    "name": "ipython",
    "version": 3
   },
   "file_extension": ".py",
   "mimetype": "text/x-python",
   "name": "python",
   "nbconvert_exporter": "python",
   "pygments_lexer": "ipython3",
   "version": "3.13.2"
  }
 },
 "nbformat": 4,
 "nbformat_minor": 5
}
