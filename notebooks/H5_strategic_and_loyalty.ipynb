{
 "cells": [
  {
   "cell_type": "code",
   "execution_count": 1,
   "id": "4a0b1110-03b4-4bd2-83bb-474396f57ca1",
   "metadata": {},
   "outputs": [],
   "source": [
    "import sys\n",
    "from pathlib import Path\n",
    "\n",
    "import pandas as pd\n",
    "\n",
    "import matplotlib.pyplot as plt\n",
    "import seaborn as sns\n",
    "sns.set_theme(style=\"whitegrid\", palette=\"viridis\")\n",
    "\n",
    "sys.path.append(str(Path().resolve().parent / \"src\"))\n",
    "from utils import load_all_csvs\n",
    "from sanitize import sanitize_all"
   ]
  },
  {
   "cell_type": "code",
   "execution_count": null,
   "id": "e8ca27b8-4cd7-4700-95f0-4c0feb939165",
   "metadata": {},
   "outputs": [],
   "source": [
    "dfs = load_all_csvs(Path.cwd().parent / \"data\")\n",
    "dfs = sanitize_all(dfs)"
   ]
  },
  {
   "cell_type": "code",
   "execution_count": null,
   "id": "ae0d3502-661c-4617-9f8c-0f7a7d738c0e",
   "metadata": {},
   "outputs": [],
   "source": [
    "dfs['transactional'].columns"
   ]
  },
  {
   "cell_type": "code",
   "execution_count": null,
   "id": "e5d44856-79af-4b0a-ba98-c20fad9c5c04",
   "metadata": {},
   "outputs": [],
   "source": [
    "# Garante que a coluna ZCTA existe (através do Lab Id)\n",
    "dfs['transactional'] = dfs['transactional'].merge(\n",
    "    dfs['geocode'][['Lab Id', 'Zipcode']],\n",
    "    on='Lab Id',\n",
    "    how='left'\n",
    ")\n",
    "if 'ZCTA' not in dfs['transactional'].columns:\n",
    "    dfs['transactional']['ZCTA'] = dfs['transactional']['Zipcode'].astype(str).str.split('.').str[0].str.zfill(5)\n",
    "\n",
    "# 1. Diversidade de exames por ZCTA\n",
    "diversidade_exames = (\n",
    "    dfs['transactional']\n",
    "    .groupby('ZCTA')['CodItem']\n",
    "    .nunique()\n",
    "    .reset_index()\n",
    "    .rename(columns={'CodItem': 'num_exames_unicos'})\n",
    ")\n",
    "\n",
    "# 2. Volume total de exames por ZCTA\n",
    "volume_exames = (\n",
    "    dfs['transactional']\n",
    "    .groupby('ZCTA')\n",
    "    .size()\n",
    "    .reset_index(name='num_exames_totais')\n",
    ")\n",
    "\n",
    "# 3. Merge para DataFrame final\n",
    "h5a_df = pd.merge(diversidade_exames, volume_exames, on='ZCTA')\n",
    "h5a_df['proporcao_diversidade'] = h5a_df['num_exames_unicos'] / h5a_df['num_exames_totais']\n",
    "\n",
    "# 4. Prepara Top 10 ZCTAs por diversidade\n",
    "top_diversidade = h5a_df.sort_values(by='num_exames_unicos', ascending=False).head(10)\n",
    "\n",
    "# 5. Plota os dois gráficos lado a lado\n",
    "fig, axes = plt.subplots(1, 2, figsize=(16, 5))\n",
    "\n",
    "# Scatterplot\n",
    "sns.scatterplot(data=h5a_df, x='num_exames_totais', y='num_exames_unicos', ax=axes[0])\n",
    "axes[0].set_title('Diversidade vs. Volume de Exames por ZCTA')\n",
    "axes[0].set_xlabel('Volume Total de Exames')\n",
    "axes[0].set_ylabel('Tipos Diferentes de Exames')\n",
    "\n",
    "# Barplot Top 10\n",
    "sns.barplot(data=top_diversidade, x='num_exames_unicos', y='ZCTA', hue='ZCTA', ax=axes[1], palette='mako')\n",
    "axes[1].set_title('Top 10 ZCTAs com Maior Diversidade de Exames')\n",
    "axes[1].set_xlabel('Tipos Diferentes de Exames')\n",
    "axes[1].set_ylabel('ZCTA')\n",
    "\n",
    "plt.tight_layout()\n",
    "plt.show()"
   ]
  },
  {
   "cell_type": "markdown",
   "id": "465b3f60-7dfe-43a4-9258-91b4ab7906b4",
   "metadata": {},
   "source": [
    "### 📊 H5a – Diversidade de Exames como Indicador de Fidelização\n",
    "\n",
    "A análise da diversidade de exames por ZCTA revela que:\n",
    "\n",
    "- Existe uma **correlação clara** entre o volume total de exames realizados e a diversidade de tipos distintos de exames.\n",
    "- ZCTAs como `98008`, `94565`, `30096` e `95823` se destacam não apenas pelo alto volume, mas também por apresentarem **grande variedade de procedimentos**, sugerindo uma **demanda ampla e continuada** dos serviços laboratoriais.\n",
    "- A presença de muitos tipos diferentes de exames realizados pode indicar que os pacientes retornam para diversas especialidades ou utilizam o laboratório como **único ponto de atendimento**, o que é um **sinal de fidelização**.\n",
    "\n",
    "> **Conclusão**: A hipótese H5a é **suportada pelos dados** — ZCTAs com maior diversidade de exames tendem a representar regiões com **alto grau de fidelidade dos pacientes**, refletindo maior retenção e engajamento da base de clientes.\n"
   ]
  },
  {
   "cell_type": "code",
   "execution_count": null,
   "id": "73ed67e3-fa55-446c-bf20-82a83dba7a3b",
   "metadata": {},
   "outputs": [],
   "source": [
    "paciente_freq = dfs['transactional'].groupby('Patient Id').size().reset_index(name='num_visitas')\n",
    "paciente_freq"
   ]
  },
  {
   "cell_type": "code",
   "execution_count": null,
   "id": "6f7de031-93b9-4b60-8404-915df52db2e6",
   "metadata": {},
   "outputs": [],
   "source": []
  }
 ],
 "metadata": {
  "kernelspec": {
   "display_name": "Python 3 (ipykernel)",
   "language": "python",
   "name": "python3"
  },
  "language_info": {
   "codemirror_mode": {
    "name": "ipython",
    "version": 3
   },
   "file_extension": ".py",
   "mimetype": "text/x-python",
   "name": "python",
   "nbconvert_exporter": "python",
   "pygments_lexer": "ipython3",
   "version": "3.13.2"
  }
 },
 "nbformat": 4,
 "nbformat_minor": 5
}
